{
 "cells": [
  {
   "cell_type": "code",
   "execution_count": 1,
   "id": "63848e0f",
   "metadata": {},
   "outputs": [
    {
     "data": {
      "text/plain": [
       "True"
      ]
     },
     "execution_count": 1,
     "metadata": {},
     "output_type": "execute_result"
    }
   ],
   "source": [
    "from dotenv import load_dotenv\n",
    "from anthropic import Anthropic\n",
    "import IPython\n",
    "from IPython.display import Markdown\n",
    "import json\n",
    "\n",
    "load_dotenv()"
   ]
  },
  {
   "cell_type": "code",
   "execution_count": 2,
   "id": "3b767319",
   "metadata": {},
   "outputs": [],
   "source": [
    "model = \"claude-sonnet-4-5\"\n",
    "num_tokens = 1000\n",
    "client = Anthropic()\n",
    "messages = []"
   ]
  },
  {
   "cell_type": "code",
   "execution_count": 3,
   "id": "4c8c43ad",
   "metadata": {},
   "outputs": [],
   "source": [
    "def add_user_message(messages, text):\n",
    "   user_message = {\n",
    "      \"role\": \"user\",\n",
    "      \"content\": text\n",
    "   }\n",
    "   messages.append(user_message)\n",
    "\n",
    "def add_assistant_message(messages, text):\n",
    "   assistant_message = {\n",
    "      \"role\": \"assistant\",\n",
    "      \"content\": text\n",
    "   }\n",
    "   messages.append(assistant_message)\n",
    "\n",
    "def chat(messages, system=None, temperature=1.0, stop_sequences=[]):\n",
    "   params = {\n",
    "      \"model\": model,\n",
    "      \"max_tokens\": num_tokens,\n",
    "      \"messages\": messages,\n",
    "      \"temperature\": temperature\n",
    "   }\n",
    "\n",
    "   if system:\n",
    "      params[\"system\"] = system\n",
    "   \n",
    "   if stop_sequences:\n",
    "      params[\"stop_sequences\"] = stop_sequences\n",
    "\n",
    "   with client.messages.stream(**params) as stream:\n",
    "      for text in stream.text_stream:\n",
    "         print(text, end=\"\")\n",
    "         pass\n",
    "\n",
    "   response = stream.get_final_message()\n",
    "   return response.content[0].text"
   ]
  },
  {
   "cell_type": "code",
   "execution_count": null,
   "id": "5c6276f0",
   "metadata": {},
   "outputs": [],
   "source": []
  }
 ],
 "metadata": {
  "kernelspec": {
   "display_name": "ctorch",
   "language": "python",
   "name": "python3"
  },
  "language_info": {
   "codemirror_mode": {
    "name": "ipython",
    "version": 3
   },
   "file_extension": ".py",
   "mimetype": "text/x-python",
   "name": "python",
   "nbconvert_exporter": "python",
   "pygments_lexer": "ipython3",
   "version": "3.13.3"
  }
 },
 "nbformat": 4,
 "nbformat_minor": 5
}
