{
 "cells": [
  {
   "cell_type": "code",
   "execution_count": 1,
   "id": "9da07bf6",
   "metadata": {},
   "outputs": [
    {
     "data": {
      "text/plain": [
       "True"
      ]
     },
     "execution_count": 1,
     "metadata": {},
     "output_type": "execute_result"
    }
   ],
   "source": [
    "from dotenv import load_dotenv\n",
    "from anthropic import Anthropic\n",
    "\n",
    "load_dotenv()"
   ]
  },
  {
   "cell_type": "code",
   "execution_count": 2,
   "id": "b6a6672b",
   "metadata": {},
   "outputs": [],
   "source": [
    "model = \"claude-sonnet-4-5\"\n",
    "num_tokens = 1000\n",
    "system = \"\"\"\n",
    "You are a brilliant programmer, known\n",
    "for writing clean, concise, and minimal\n",
    "programs.  You believe that brevity is the\n",
    "soul of wit, and try to make code that is both\n",
    "terse and readable.  You enjoy the challenge of\n",
    "making code with minimal documentation, with form\n",
    "and function in balance.\n",
    "\"\"\"\n",
    "client = Anthropic()"
   ]
  },
  {
   "cell_type": "code",
   "execution_count": 3,
   "id": "3aa4ad59",
   "metadata": {},
   "outputs": [],
   "source": [
    "def add_user_message(messages, text):\n",
    "   user_message = {\n",
    "      \"role\": \"user\",\n",
    "      \"content\": text\n",
    "   }\n",
    "   messages.append(user_message)\n",
    "\n",
    "def add_assistant_message(messages, text):\n",
    "   assistant_message = {\n",
    "      \"role\": \"assistant\",\n",
    "      \"content\": text\n",
    "   }\n",
    "   messages.append(assistant_message)\n",
    "\n",
    "def chat(messages, system=None):\n",
    "   params = {\n",
    "      \"model\": model,\n",
    "      \"max_tokens\": num_tokens,\n",
    "      \"messages\": messages,\n",
    "   }\n",
    "\n",
    "   if system:\n",
    "      params[\"system\"] = system\n",
    "\n",
    "   message = client.messages.create(**params)\n",
    "   return message.content[0].text"
   ]
  },
  {
   "cell_type": "code",
   "execution_count": 9,
   "id": "86d97159",
   "metadata": {},
   "outputs": [],
   "source": [
    "messages = []\n",
    "\n",
    "add_user_message(\n",
    "   messages,\n",
    "   \"Write a Python function that checks a string for duplicate characters.\",\n",
    ")\n",
    "\n",
    "answer = chat(messages, system)"
   ]
  },
  {
   "cell_type": "code",
   "execution_count": 10,
   "id": "311c2937",
   "metadata": {},
   "outputs": [
    {
     "data": {
      "text/plain": [
       "'```python\\ndef has_duplicates(s):\\n    return len(s) != len(set(s))\\n```\\n\\n**Usage:**\\n```python\\nhas_duplicates(\"hello\")    # True  (l repeats)\\nhas_duplicates(\"world\")    # False\\nhas_duplicates(\"aabbcc\")   # True\\nhas_duplicates(\"\")         # False\\n```\\n\\nThe function converts the string to a set (which removes duplicates), then compares lengths. If they differ, duplicates exist.'"
      ]
     },
     "execution_count": 10,
     "metadata": {},
     "output_type": "execute_result"
    }
   ],
   "source": [
    "answer"
   ]
  },
  {
   "cell_type": "code",
   "execution_count": 11,
   "id": "86cef070",
   "metadata": {},
   "outputs": [
    {
     "name": "stdout",
     "output_type": "stream",
     "text": [
      "```python\n",
      "def has_duplicates(s):\n",
      "    return len(s) != len(set(s))\n",
      "```\n",
      "\n",
      "**Usage:**\n",
      "```python\n",
      "has_duplicates(\"hello\")    # True  (l repeats)\n",
      "has_duplicates(\"world\")    # False\n",
      "has_duplicates(\"aabbcc\")   # True\n",
      "has_duplicates(\"\")         # False\n",
      "```\n",
      "\n",
      "The function converts the string to a set (which removes duplicates), then compares lengths. If they differ, duplicates exist.\n"
     ]
    }
   ],
   "source": [
    "print(answer)"
   ]
  },
  {
   "cell_type": "code",
   "execution_count": null,
   "id": "6d520cf4",
   "metadata": {},
   "outputs": [],
   "source": []
  }
 ],
 "metadata": {
  "kernelspec": {
   "display_name": "ctorch",
   "language": "python",
   "name": "python3"
  },
  "language_info": {
   "codemirror_mode": {
    "name": "ipython",
    "version": 3
   },
   "file_extension": ".py",
   "mimetype": "text/x-python",
   "name": "python",
   "nbconvert_exporter": "python",
   "pygments_lexer": "ipython3",
   "version": "3.13.7"
  }
 },
 "nbformat": 4,
 "nbformat_minor": 5
}
