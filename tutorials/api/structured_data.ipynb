{
 "cells": [
  {
   "cell_type": "code",
   "execution_count": 3,
   "id": "63848e0f",
   "metadata": {},
   "outputs": [],
   "source": [
    "from dotenv import load_dotenv\n",
    "from anthropic import Anthropic\n",
    "import json\n",
    "\n",
    "load_dotenv()\n",
    "text = \"{}\"\n",
    "clean_json = json.loads(text.strip())"
   ]
  },
  {
   "cell_type": "code",
   "execution_count": 4,
   "id": "3b767319",
   "metadata": {},
   "outputs": [],
   "source": [
    "model = \"claude-sonnet-4-5\"\n",
    "num_tokens = 1000\n",
    "client = Anthropic()\n",
    "messages = []"
   ]
  },
  {
   "cell_type": "code",
   "execution_count": 5,
   "id": "4c8c43ad",
   "metadata": {},
   "outputs": [],
   "source": [
    "def add_user_message(messages, text):\n",
    "   user_message = {\n",
    "      \"role\": \"user\",\n",
    "      \"content\": text\n",
    "   }\n",
    "   messages.append(user_message)\n",
    "\n",
    "def add_assistant_message(messages, text):\n",
    "   assistant_message = {\n",
    "      \"role\": \"assistant\",\n",
    "      \"content\": text\n",
    "   }\n",
    "   messages.append(assistant_message)\n",
    "\n",
    "def chat(messages, system=None, temperature=1.0, stop_sequences=[]):\n",
    "   params = {\n",
    "      \"model\": model,\n",
    "      \"max_tokens\": num_tokens,\n",
    "      \"messages\": messages,\n",
    "      \"temperature\": temperature\n",
    "   }\n",
    "\n",
    "   if system:\n",
    "      params[\"system\"] = system\n",
    "\n",
    "   message = client.messages.create(**params)\n",
    "   return message.content[0].text"
   ]
  },
  {
   "cell_type": "code",
   "execution_count": 6,
   "id": "19b9f109",
   "metadata": {},
   "outputs": [
    {
     "name": "stdout",
     "output_type": "stream",
     "text": [
      "Unexpected exception formatting exception. Falling back to standard exception\n"
     ]
    },
    {
     "name": "stderr",
     "output_type": "stream",
     "text": [
      "Traceback (most recent call last):\n",
      "  File \"/home/jx-creator/mambaforge/envs/ctorch/lib/python3.13/site-packages/IPython/core/interactiveshell.py\", line 3667, in run_code\n",
      "    exec(code_obj, self.user_global_ns, self.user_ns)\n",
      "    ~~~~^^^^^^^^^^^^^^^^^^^^^^^^^^^^^^^^^^^^^^^^^^^^^\n",
      "  File \"/tmp/ipykernel_2385987/2142112416.py\", line 1, in <module>\n",
      "    with client.messages.stream(\n",
      "         ~~~~~~~~~~~~~~~~~~~~~~^\n",
      "       model=model,\n",
      "       ^^^^^^^^^^^^\n",
      "       max_tokens=num_tokens,\n",
      "       ^^^^^^^^^^^^^^^^^^^^^^\n",
      "       messages=messages\n",
      "       ^^^^^^^^^^^^^^^^^\n",
      "    ) as stream:\n",
      "    ^\n",
      "  File \"/home/jx-creator/mambaforge/envs/ctorch/lib/python3.13/site-packages/anthropic/lib/streaming/_messages.py\", line 152, in __enter__\n",
      "    raw_stream = self.__api_request()\n",
      "  File \"/home/jx-creator/mambaforge/envs/ctorch/lib/python3.13/site-packages/anthropic/_base_client.py\", line 1307, in post\n",
      "    return cast(ResponseT, self.request(cast_to, opts, stream=stream, stream_cls=stream_cls))\n",
      "                           ~~~~~~~~~~~~^^^^^^^^^^^^^^^^^^^^^^^^^^^^^^^^^^^^^^^^^^^^^^^^^^^^^\n",
      "  File \"/home/jx-creator/mambaforge/envs/ctorch/lib/python3.13/site-packages/anthropic/_base_client.py\", line 1102, in request\n",
      "    raise self._make_status_error_from_response(err.response) from None\n",
      "anthropic.BadRequestError: Error code: 400 - {'type': 'error', 'error': {'type': 'invalid_request_error', 'message': 'messages: at least one message is required'}, 'request_id': 'req_011CU2QLzszmmTNNszNxaUPy'}\n",
      "\n",
      "During handling of the above exception, another exception occurred:\n",
      "\n",
      "Traceback (most recent call last):\n",
      "  File \"/home/jx-creator/mambaforge/envs/ctorch/lib/python3.13/site-packages/IPython/core/interactiveshell.py\", line 2176, in showtraceback\n",
      "    stb = self.InteractiveTB.structured_traceback(\n",
      "        etype, value, tb, tb_offset=tb_offset\n",
      "    )\n",
      "  File \"/home/jx-creator/mambaforge/envs/ctorch/lib/python3.13/site-packages/IPython/core/ultratb.py\", line 1182, in structured_traceback\n",
      "    return FormattedTB.structured_traceback(\n",
      "           ~~~~~~~~~~~~~~~~~~~~~~~~~~~~~~~~^\n",
      "        self, etype, evalue, etb, tb_offset, context\n",
      "        ^^^^^^^^^^^^^^^^^^^^^^^^^^^^^^^^^^^^^^^^^^^^\n",
      "    )\n",
      "    ^\n",
      "  File \"/home/jx-creator/mambaforge/envs/ctorch/lib/python3.13/site-packages/IPython/core/ultratb.py\", line 1053, in structured_traceback\n",
      "    return VerboseTB.structured_traceback(\n",
      "           ~~~~~~~~~~~~~~~~~~~~~~~~~~~~~~^\n",
      "        self, etype, evalue, etb, tb_offset, context\n",
      "        ^^^^^^^^^^^^^^^^^^^^^^^^^^^^^^^^^^^^^^^^^^^^\n",
      "    )\n",
      "    ^\n",
      "  File \"/home/jx-creator/mambaforge/envs/ctorch/lib/python3.13/site-packages/IPython/core/ultratb.py\", line 861, in structured_traceback\n",
      "    formatted_exceptions: list[list[str]] = self.format_exception_as_a_whole(\n",
      "                                            ~~~~~~~~~~~~~~~~~~~~~~~~~~~~~~~~^\n",
      "        etype, evalue, etb, context, tb_offset\n",
      "        ^^^^^^^^^^^^^^^^^^^^^^^^^^^^^^^^^^^^^^\n",
      "    )\n",
      "    ^\n",
      "  File \"/home/jx-creator/mambaforge/envs/ctorch/lib/python3.13/site-packages/IPython/core/ultratb.py\", line 746, in format_exception_as_a_whole\n",
      "    records = self.get_records(etb, context, tb_offset) if etb else []\n",
      "              ~~~~~~~~~~~~~~~~^^^^^^^^^^^^^^^^^^^^^^^^^\n",
      "  File \"/home/jx-creator/mambaforge/envs/ctorch/lib/python3.13/site-packages/IPython/core/ultratb.py\", line 848, in get_records\n",
      "    res = list(stack_data.FrameInfo.stack_data(etb, options=options))[tb_offset:]\n",
      "          ~~~~^^^^^^^^^^^^^^^^^^^^^^^^^^^^^^^^^^^^^^^^^^^^^^^^^^^^^^^\n",
      "  File \"/home/jx-creator/mambaforge/envs/ctorch/lib/python3.13/site-packages/stack_data/core.py\", line 597, in stack_data\n",
      "    yield from collapse_repeated(\n",
      "    ...<4 lines>...\n",
      "    )\n",
      "  File \"/home/jx-creator/mambaforge/envs/ctorch/lib/python3.13/site-packages/stack_data/utils.py\", line 83, in collapse_repeated\n",
      "    yield from map(mapper, original_group)\n",
      "  File \"/home/jx-creator/mambaforge/envs/ctorch/lib/python3.13/site-packages/stack_data/core.py\", line 587, in mapper\n",
      "    return cls(f, options)\n",
      "  File \"/home/jx-creator/mambaforge/envs/ctorch/lib/python3.13/site-packages/stack_data/core.py\", line 551, in __init__\n",
      "    self.executing = Source.executing(frame_or_tb)\n",
      "                     ~~~~~~~~~~~~~~~~^^^^^^^^^^^^^\n",
      "  File \"/home/jx-creator/mambaforge/envs/ctorch/lib/python3.13/site-packages/executing/executing.py\", line 283, in executing\n",
      "    assert_(new_stmts <= stmts)\n",
      "    ~~~~~~~^^^^^^^^^^^^^^^^^^^^\n",
      "  File \"/home/jx-creator/mambaforge/envs/ctorch/lib/python3.13/site-packages/executing/executing.py\", line 80, in assert_\n",
      "    raise AssertionError(str(message))\n",
      "AssertionError\n"
     ]
    }
   ],
   "source": [
    "with client.messages.stream(\n",
    "   model=model,\n",
    "   max_tokens=num_tokens,\n",
    "   messages=messages\n",
    ") as stream:\n",
    "   for text in stream.text_stream:\n",
    "      # Send each chunk to the client\n",
    "      pass\n",
    "\n",
    "# Get the complete message for database storage\n",
    "final_message = stream.get_final_message()"
   ]
  },
  {
   "cell_type": "code",
   "execution_count": null,
   "id": "b9484bf0",
   "metadata": {},
   "outputs": [],
   "source": []
  }
 ],
 "metadata": {
  "kernelspec": {
   "display_name": "ctorch",
   "language": "python",
   "name": "python3"
  },
  "language_info": {
   "codemirror_mode": {
    "name": "ipython",
    "version": 3
   },
   "file_extension": ".py",
   "mimetype": "text/x-python",
   "name": "python",
   "nbconvert_exporter": "python",
   "pygments_lexer": "ipython3",
   "version": "3.13.7"
  }
 },
 "nbformat": 4,
 "nbformat_minor": 5
}
