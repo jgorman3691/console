{
 "cells": [
  {
   "cell_type": "code",
   "execution_count": 61,
   "id": "63848e0f",
   "metadata": {},
   "outputs": [],
   "source": [
    "from dotenv import load_dotenv\n",
    "from anthropic import Anthropic\n",
    "from IPython.display import Markdown\n",
    "import json\n",
    "\n",
    "load_dotenv()\n",
    "text = \"{}\"\n",
    "clean_json = json.loads(text.strip())"
   ]
  },
  {
   "cell_type": "code",
   "execution_count": 62,
   "id": "3b767319",
   "metadata": {},
   "outputs": [],
   "source": [
    "model = \"claude-sonnet-4-5\"\n",
    "num_tokens = 1000\n",
    "client = Anthropic()\n",
    "messages = []"
   ]
  },
  {
   "cell_type": "code",
   "execution_count": 63,
   "id": "4c8c43ad",
   "metadata": {},
   "outputs": [],
   "source": [
    "def add_user_message(messages, text):\n",
    "   user_message = {\n",
    "      \"role\": \"user\",\n",
    "      \"content\": text\n",
    "   }\n",
    "   messages.append(user_message)\n",
    "\n",
    "def add_assistant_message(messages, text):\n",
    "   assistant_message = {\n",
    "      \"role\": \"assistant\",\n",
    "      \"content\": text\n",
    "   }\n",
    "   messages.append(assistant_message)\n",
    "\n",
    "def chat(messages, system=None, temperature=1.0, stop_sequences=[]):\n",
    "   params = {\n",
    "      \"model\": model,\n",
    "      \"max_tokens\": num_tokens,\n",
    "      \"messages\": messages,\n",
    "      \"temperature\": temperature\n",
    "   }\n",
    "\n",
    "   if system:\n",
    "      params[\"system\"] = system\n",
    "\n",
    "   with client.messages.stream(**params) as stream:\n",
    "      for text in stream.text_stream:\n",
    "         pass\n",
    "   message = stream.get_final_message()\n",
    "   # message = client.messages.create(**params)\n",
    "   return message.content[0].text"
   ]
  },
  {
   "cell_type": "code",
   "execution_count": 71,
   "id": "81512dc0",
   "metadata": {},
   "outputs": [
    {
     "data": {
      "text/plain": [
       "'aws s3 ls\\naws ec2 describe-instances\\naws iam list-users\\n```'"
      ]
     },
     "execution_count": 71,
     "metadata": {},
     "output_type": "execute_result"
    }
   ],
   "source": [
    "prompt = \"\"\"\n",
    "Generate three different sample AWS CLI commands. Each should be very short.\n",
    "\"\"\"\n",
    "\n",
    "add_user_message(messages, prompt)\n",
    "add_assistant_message(messages, \"Here are all three commands in a single block without any comments:\\n```bash\")\n",
    "\n",
    "# text = chat(messages, stop_sequences=[\"\\n\", \"```\"])\n",
    "# text.strip()\n",
    "text = chat(messages, stop_sequences=[\"```\"])\n",
    "text.strip()"
   ]
  },
  {
   "cell_type": "code",
   "execution_count": 69,
   "id": "4f620e11",
   "metadata": {},
   "outputs": [
    {
     "data": {
      "text/plain": [
       "'\\naws s3 ls\\naws ec2 describe-instances\\naws lambda list-functions\\n```'"
      ]
     },
     "execution_count": 69,
     "metadata": {},
     "output_type": "execute_result"
    }
   ],
   "source": [
    "text"
   ]
  },
  {
   "cell_type": "code",
   "execution_count": 72,
   "id": "2de305a7",
   "metadata": {},
   "outputs": [
    {
     "data": {
      "text/markdown": [
       "\n",
       "aws s3 ls\n",
       "aws ec2 describe-instances\n",
       "aws iam list-users\n",
       "```"
      ],
      "text/plain": [
       "<IPython.core.display.Markdown object>"
      ]
     },
     "execution_count": 72,
     "metadata": {},
     "output_type": "execute_result"
    }
   ],
   "source": [
    "Markdown(text)"
   ]
  },
  {
   "cell_type": "code",
   "execution_count": null,
   "id": "dfdcd43c",
   "metadata": {},
   "outputs": [],
   "source": []
  }
 ],
 "metadata": {
  "kernelspec": {
   "display_name": "ctorch",
   "language": "python",
   "name": "python3"
  },
  "language_info": {
   "codemirror_mode": {
    "name": "ipython",
    "version": 3
   },
   "file_extension": ".py",
   "mimetype": "text/x-python",
   "name": "python",
   "nbconvert_exporter": "python",
   "pygments_lexer": "ipython3",
   "version": "3.13.7"
  }
 },
 "nbformat": 4,
 "nbformat_minor": 5
}
