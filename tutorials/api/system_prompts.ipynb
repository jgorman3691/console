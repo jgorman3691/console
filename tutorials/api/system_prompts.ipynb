{
 "cells": [
  {
   "cell_type": "code",
   "execution_count": 1,
   "id": "9da07bf6",
   "metadata": {},
   "outputs": [
    {
     "data": {
      "text/plain": [
       "True"
      ]
     },
     "execution_count": 1,
     "metadata": {},
     "output_type": "execute_result"
    }
   ],
   "source": [
    "from dotenv import load_dotenv\n",
    "from anthropic import Anthropic\n",
    "\n",
    "load_dotenv()"
   ]
  },
  {
   "cell_type": "code",
   "execution_count": 6,
   "id": "b6a6672b",
   "metadata": {},
   "outputs": [],
   "source": [
    "model = \"claude-sonnet-4-5\"\n",
    "num_tokens = 1000\n",
    "system = \"\"\"\n",
    "You are a patient math tutor.\n",
    "Do not directly answer a student's questions.\n",
    "Instead, help guide them to develop the \n",
    "methods of problem solving to help guide\n",
    "them to the solution.\n",
    "\"\"\"\n",
    "client = Anthropic()"
   ]
  },
  {
   "cell_type": "code",
   "execution_count": 7,
   "id": "3aa4ad59",
   "metadata": {},
   "outputs": [],
   "source": [
    "def chat(messages, system=None):\n",
    "   params = {\n",
    "      \"model\": model,\n",
    "      \"max_tokens\": num_tokens,\n",
    "      \"messages\": messages,\n",
    "   }\n",
    "\n",
    "   if system:\n",
    "      params[\"system\"] = system\n",
    "\n",
    "   message = client.messages.create(**params)\n",
    "   return message.content[0].text"
   ]
  },
  {
   "cell_type": "code",
   "execution_count": null,
   "id": "dba69943",
   "metadata": {},
   "outputs": [],
   "source": []
  }
 ],
 "metadata": {
  "kernelspec": {
   "display_name": "ctorch",
   "language": "python",
   "name": "python3"
  },
  "language_info": {
   "codemirror_mode": {
    "name": "ipython",
    "version": 3
   },
   "file_extension": ".py",
   "mimetype": "text/x-python",
   "name": "python",
   "nbconvert_exporter": "python",
   "pygments_lexer": "ipython3",
   "version": "3.13.7"
  }
 },
 "nbformat": 4,
 "nbformat_minor": 5
}
