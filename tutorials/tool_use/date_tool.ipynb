{
 "cells": [
  {
   "cell_type": "code",
   "execution_count": 20,
   "id": "1e22d9ae",
   "metadata": {},
   "outputs": [],
   "source": [
    "from datetime import datetime\n",
    "from anthropic import Anthropic\n",
    "from IPython.display import Markdown\n",
    "from dotenv import load_dotenv\n",
    "\n",
    "load_dotenv()\n",
    "model = \"claude-3-5-haiku-latest\"\n",
    "client = Anthropic()\n",
    "num_tokens = 1000"
   ]
  },
  {
   "cell_type": "code",
   "execution_count": 21,
   "id": "c38f4c11",
   "metadata": {},
   "outputs": [],
   "source": [
    "def get_current_datetime(date_format=\"%Y-%m-%d %H:%M:%S\"):\n",
    "   if not date_format:\n",
    "      raise ValueError(f\"{date_format} cannot be empty.\")\n",
    "   \n",
    "   return datetime.now().strftime(date_format)\n",
    "\n",
    "get_current_datetime_schema = {\n",
    "   \"name\": \"get_current_datetime\",\n",
    "   \"description\": \"Get the current date and time formatted according to a specified pattern. Returns the current datetime as a formatted string.\",\n",
    "   \"input_schema\": {\n",
    "     \"type\": \"object\",\n",
    "     \"properties\": {\n",
    "       \"date_format\": {\n",
    "         \"type\": \"string\",\n",
    "         \"description\": \"Python strftime format string for datetime formatting. Common patterns: '%Y-%m-%d' for date only (e.g., 2025-10-13), '%H:%M:%S' for time only (e.g., 14:30:45), '%Y-%m-%d %H:%M:%S' for full datetime (e.g., 2025-10-13 14:30:45), '%B %d, %Y' for readable date (e.g., October 13, 2025). Cannot be empty. Defaults to '%Y-%m-%d %H:%M:%S' if not provided.\",\n",
    "         \"default\": \"%Y-%m-%d %H:%M:%S\"\n",
    "       },\n",
    "     },\n",
    "     \"required\": []\n",
    "   },\n",
    "}"
   ]
  },
  {
   "cell_type": "code",
   "execution_count": 44,
   "id": "c567d31f",
   "metadata": {},
   "outputs": [],
   "source": [
    "# Main Helper Functions\n",
    "def add_user_message(messages, text):\n",
    "   user_message = {\n",
    "      \"role\": \"user\",\n",
    "      \"content\": text\n",
    "   }\n",
    "   messages.append(user_message)\n",
    "\n",
    "   response = client.messages.create(\n",
    "      model=model,\n",
    "      max_tokens=num_tokens,\n",
    "      messages=messages,\n",
    "      tools=[get_current_datetime_schema]\n",
    "   )\n",
    "\n",
    "def add_assistant_message(messages, text):\n",
    "   assistant_message = {\n",
    "      \"role\": \"assistant\",\n",
    "      \"content\": text\n",
    "   }\n",
    "   messages.append(assistant_message)\n",
    "\n",
    "def chat(messages, system=None, temperature=1.0, stop_sequences=[]):\n",
    "   params = {\n",
    "      \"model\": model,\n",
    "      \"max_tokens\": num_tokens,\n",
    "      \"messages\": messages,\n",
    "      \"temperature\": temperature\n",
    "   }\n",
    "\n",
    "   if system:\n",
    "      params[\"system\"] = system\n",
    "\n",
    "   with client.messages.stream(**params) as stream:\n",
    "      for text in stream.text_stream:\n",
    "         print(text, end=\"\")\n",
    "         pass\n",
    "   response = stream.get_final_message()\n",
    "   # message = client.messages.create(**params)\n",
    "   return response.content[0].text"
   ]
  },
  {
   "cell_type": "code",
   "execution_count": 22,
   "id": "b52d4a99",
   "metadata": {},
   "outputs": [
    {
     "data": {
      "text/plain": [
       "[{'role': 'user', 'content': 'What is the exact time, formatted as HH:MM:SS?'},\n",
       " {'role': 'assistant',\n",
       "  'content': [TextBlock(citations=None, text=\"I'll retrieve the current time for you using the specified format.\", type='text'),\n",
       "   ToolUseBlock(id='toolu_01WohDiDtZmKVjEG5ArXoNLj', input={'date_format': '%H:%M:%S'}, name='get_current_datetime', type='tool_use')]}]"
      ]
     },
     "execution_count": 22,
     "metadata": {},
     "output_type": "execute_result"
    }
   ],
   "source": [
    "messages = []\n",
    "\n",
    "messages.append(\n",
    "   {\n",
    "      \"role\": \"user\",\n",
    "      \"content\": \"What is the exact time, formatted as HH:MM:SS?\"\n",
    "   }\n",
    ")\n",
    "\n",
    "response = client.messages.create(\n",
    "   model=model,\n",
    "   max_tokens=num_tokens,\n",
    "   messages=messages,\n",
    "   tools=[get_current_datetime_schema],\n",
    ")\n",
    "\n",
    "messages.append(\n",
    "   {\n",
    "      \"role\": \"assistant\",\n",
    "      \"content\": response.content\n",
    "   }\n",
    ")\n",
    "messages"
   ]
  },
  {
   "cell_type": "code",
   "execution_count": 12,
   "id": "943bd319",
   "metadata": {},
   "outputs": [
    {
     "data": {
      "text/plain": [
       "Message(id='msg_012xaGB8uTWoGLNWJ6Bv7vFC', content=[TextBlock(citations=None, text=\"I'll retrieve the current time for you using the specified format.\", type='text'), ToolUseBlock(id='toolu_018FXUReaBtpwnaR7uNuGaS9', input={'date_format': '%H:%M:%S'}, name='get_current_datetime', type='tool_use')], model='claude-3-5-haiku-20241022', role='assistant', stop_reason='tool_use', stop_sequence=None, type='message', usage=Usage(cache_creation_input_tokens=0, cache_read_input_tokens=0, input_tokens=517, output_tokens=76, server_tool_use=None, service_tier='standard', cache_creation={'ephemeral_5m_input_tokens': 0, 'ephemeral_1h_input_tokens': 0}))"
      ]
     },
     "execution_count": 12,
     "metadata": {},
     "output_type": "execute_result"
    }
   ],
   "source": [
    "response"
   ]
  },
  {
   "cell_type": "code",
   "execution_count": 13,
   "id": "1029f738",
   "metadata": {},
   "outputs": [
    {
     "data": {
      "text/plain": [
       "ToolUseBlock(id='toolu_018FXUReaBtpwnaR7uNuGaS9', input={'date_format': '%H:%M:%S'}, name='get_current_datetime', type='tool_use')"
      ]
     },
     "execution_count": 13,
     "metadata": {},
     "output_type": "execute_result"
    }
   ],
   "source": [
    "response.content[1]"
   ]
  },
  {
   "cell_type": "code",
   "execution_count": 14,
   "id": "b20b5ea0",
   "metadata": {},
   "outputs": [
    {
     "data": {
      "text/plain": [
       "{'date_format': '%H:%M:%S'}"
      ]
     },
     "execution_count": 14,
     "metadata": {},
     "output_type": "execute_result"
    }
   ],
   "source": [
    "response.content[1].input"
   ]
  },
  {
   "cell_type": "code",
   "execution_count": 23,
   "id": "1e99b0c8",
   "metadata": {},
   "outputs": [],
   "source": [
    "wanted = get_current_datetime(**response.content[1].input)"
   ]
  },
  {
   "cell_type": "code",
   "execution_count": 24,
   "id": "172240a9",
   "metadata": {},
   "outputs": [
    {
     "data": {
      "text/plain": [
       "Message(id='msg_01GH8fHGM4vPDC5SuENEJrZZ', content=[TextBlock(citations=None, text='The current time is 21:51:25 (in 24-hour format).', type='text')], model='claude-3-5-haiku-20241022', role='assistant', stop_reason='end_turn', stop_sequence=None, type='message', usage=Usage(cache_creation_input_tokens=0, cache_read_input_tokens=0, input_tokens=609, output_tokens=23, server_tool_use=None, service_tier='standard', cache_creation={'ephemeral_5m_input_tokens': 0, 'ephemeral_1h_input_tokens': 0}))"
      ]
     },
     "execution_count": 24,
     "metadata": {},
     "output_type": "execute_result"
    }
   ],
   "source": [
    "messages.append({\n",
    "   \"role\": \"user\",\n",
    "   \"content\": [{\n",
    "      \"type\": \"tool_result\",\n",
    "      \"tool_use_id\": response.content[1].id,\n",
    "      \"content\": wanted,\n",
    "      \"is_error\": False\n",
    "   }]\n",
    "})\n",
    "\n",
    "client.messages.create(\n",
    "   model=model,\n",
    "   max_tokens=num_tokens,\n",
    "   messages=messages,\n",
    "   tools=[get_current_datetime_schema]\n",
    ")"
   ]
  },
  {
   "cell_type": "markdown",
   "id": "93a2fffe",
   "metadata": {},
   "source": [
    "Note: \n",
    "You need to import datetime FROM datetime to use datetime.now()"
   ]
  }
 ],
 "metadata": {
  "kernelspec": {
   "display_name": "ctorch",
   "language": "python",
   "name": "python3"
  },
  "language_info": {
   "codemirror_mode": {
    "name": "ipython",
    "version": 3
   },
   "file_extension": ".py",
   "mimetype": "text/x-python",
   "name": "python",
   "nbconvert_exporter": "python",
   "pygments_lexer": "ipython3",
   "version": "3.13.7"
  }
 },
 "nbformat": 4,
 "nbformat_minor": 5
}
