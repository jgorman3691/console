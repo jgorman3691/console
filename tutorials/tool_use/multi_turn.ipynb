{
 "cells": [
  {
   "cell_type": "code",
   "execution_count": null,
   "id": "a1433bae",
   "metadata": {},
   "outputs": [],
   "source": [
    "from datetime import datetime\n",
    "from anthropic import Anthropic\n",
    "from anthropic.types import Message\n",
    "from IPython.display import Markdown\n",
    "from dotenv import load_dotenv\n",
    "import json\n",
    "\n",
    "load_dotenv()\n",
    "model = \"claude-3-5-haiku-latest\"\n",
    "client = Anthropic()\n",
    "num_tokens = 1000\n",
    "messages = []"
   ]
  },
  {
   "cell_type": "code",
   "execution_count": null,
   "id": "a0615b96",
   "metadata": {},
   "outputs": [],
   "source": [
    "def add_user_message(messages, message):\n",
    "   user_message = {\n",
    "      \"role\": \"user\",\n",
    "      \"content\": message.content if isinstance(message, Message) else message\n",
    "   }\n",
    "   messages.append(user_message)\n",
    "\n",
    "def add_assistant_message(messages, message):\n",
    "   assistant_message = {\n",
    "      \"role\": \"assistant\",\n",
    "      \"content\": message.content\n",
    "   }"
   ]
  },
  {
   "cell_type": "code",
   "execution_count": null,
   "id": "f097cf74",
   "metadata": {},
   "outputs": [],
   "source": [
    "def get_current_datetime(date_format=\"%Y-%m-%d %H:%M:%S\"):\n",
    "   if not date_format:\n",
    "      raise ValueError(f\"{date_format} cannot be empty.\")\n",
    "   \n",
    "   return datetime.now().strftime(date_format)\n",
    "\n",
    "get_current_datetime_schema = {\n",
    "   \"name\": \"get_current_datetime\",\n",
    "   \"description\": \"Get the current date and time formatted according to a specified pattern. Returns the current datetime as a formatted string.\",\n",
    "   \"input_schema\": {\n",
    "     \"type\": \"object\",\n",
    "     \"properties\": {\n",
    "       \"date_format\": {\n",
    "         \"type\": \"string\",\n",
    "         \"description\": \"Python strftime format string for datetime formatting. Common patterns: '%Y-%m-%d' for date only (e.g., 2025-10-13), '%H:%M:%S' for time only (e.g., 14:30:45), '%Y-%m-%d %H:%M:%S' for full datetime (e.g., 2025-10-13 14:30:45), '%B %d, %Y' for readable date (e.g., October 13, 2025). Cannot be empty. Defaults to '%Y-%m-%d %H:%M:%S' if not provided.\",\n",
    "         \"default\": \"%Y-%m-%d %H:%M:%S\"\n",
    "       },\n",
    "     },\n",
    "     \"required\": []\n",
    "   },\n",
    "}"
   ]
  },
  {
   "cell_type": "code",
   "execution_count": null,
   "id": "7ff9d96c",
   "metadata": {},
   "outputs": [],
   "source": [
    "def run_tool(tool_name, tool_input):\n",
    "   if tool_name == \"get_current_datetime\":\n",
    "      return get_current_datetime(**tool_input)\n",
    "   elif tool_name == \"another_tool\":\n",
    "      return another_tool(**tool_input)"
   ]
  },
  {
   "cell_type": "code",
   "execution_count": null,
   "id": "65f40cd6",
   "metadata": {},
   "outputs": [],
   "source": [
    "def run_tools(message):\n",
    "   tool_requests = [\n",
    "      block for block in message.content if block.type == \"tool_use\"\n",
    "   ]\n",
    "   tool_result_blocks = []\n",
    "\n",
    "   for tool_request in \"tool_requests\":\n",
    "      if tool_request.name == \"get_current_datetime\":\n",
    "         try:\n",
    "            tool_output = run_tool(tool_request.name, tool_request.input)\n",
    "            tool_result_block = {\n",
    "               \"type\": \"tool_result\",\n",
    "               \"tool_use_id\": tool_request.id,\n",
    "               \"content\": json.dumps(tool_output),\n",
    "               \"is_error\": False\n",
    "            }\n",
    "         except Exception as e:\n",
    "            tool_result_block = {\n",
    "               \"type\": \"tool_result\",\n",
    "               \"tool_use_id\": tool_request.id,\n",
    "               \"content\": f\"Error: {e}\",\n",
    "               \"is_error\": True\n",
    "            }"
   ]
  },
  {
   "cell_type": "code",
   "execution_count": null,
   "id": "94ca1b30",
   "metadata": {},
   "outputs": [],
   "source": [
    "def chat(messages, system=None, temperature=1.0, stop_sequences=[], tools=None):\n",
    "   params = {\n",
    "      \"model\": model,\n",
    "      \"max_tokens\": num_tokens,\n",
    "      \"messages\": messages,\n",
    "      \"temperature\": temperature,\n",
    "      \"stop_sequences\": stop_sequences,\n",
    "   }\n",
    "\n",
    "   if tools:\n",
    "      params[\"tools\"] = tools\n",
    "   \n",
    "   if system:\n",
    "      params[\"system\"] = system\n",
    "   \n",
    "   message = client.messages.create(**params)\n",
    "   return message"
   ]
  },
  {
   "cell_type": "code",
   "execution_count": null,
   "id": "dbb8c98a",
   "metadata": {},
   "outputs": [],
   "source": [
    "def text_from_message(message):\n",
    "   return \"\\n\".join(\n",
    "      [block.text for block in message.content if block.type == \"text\"]\n",
    "   )"
   ]
  },
  {
   "cell_type": "code",
   "execution_count": null,
   "id": "68fe6f56",
   "metadata": {},
   "outputs": [],
   "source": [
    "def run_conversation(messages):\n",
    "   while True:\n",
    "      response = chat(messages, tools=[get_current_datetime_schema])\n",
    "      add_assistant_message(messages, response)\n",
    "      print(text_from_message(response))\n",
    "\n",
    "      if response.stop_reason != \"tool_use\":\n",
    "         break\n",
    "\n",
    "      tool_results = run_tools(response)\n",
    "      add_user_message(messages, tool_results)\n",
    "\n",
    "   return messages"
   ]
  }
 ],
 "metadata": {
  "language_info": {
   "name": "python"
  }
 },
 "nbformat": 4,
 "nbformat_minor": 5
}
