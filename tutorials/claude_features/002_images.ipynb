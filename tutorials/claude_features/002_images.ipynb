{
 "cells": [
  {
   "cell_type": "code",
   "execution_count": 24,
   "metadata": {},
   "outputs": [],
   "source": [
    "# Load env variables and create client\n",
    "import base64\n",
    "from dotenv import load_dotenv\n",
    "from anthropic import Anthropic\n",
    "from anthropic.types import Message\n",
    "from pathlib import Path\n",
    "from base64 import standard_b64encode, standard_b64decode\n",
    "\n",
    "load_dotenv()\n",
    "\n",
    "client = Anthropic()\n",
    "model = \"claude-3-7-sonnet-latest\"\n",
    "head_cost = 1024\n",
    "messages = []"
   ]
  },
  {
   "cell_type": "code",
   "execution_count": 25,
   "metadata": {},
   "outputs": [],
   "source": [
    "# Helper functions\n",
    "from anthropic.types import Message\n",
    "\n",
    "\n",
    "def add_user_message(messages, message):\n",
    "    user_message = {\n",
    "        \"role\": \"user\",\n",
    "        \"content\": message.content if isinstance(message, Message) else message,\n",
    "    }\n",
    "    messages.append(user_message)\n",
    "\n",
    "\n",
    "def add_assistant_message(messages, message):\n",
    "    assistant_message = {\n",
    "        \"role\": \"assistant\",\n",
    "        \"content\": message.content if isinstance(message, Message) else message,\n",
    "    }\n",
    "    messages.append(assistant_message)\n",
    "\n",
    "\n",
    "def chat(\n",
    "    messages,\n",
    "    system=None,\n",
    "    temperature=1.0,\n",
    "    stop_sequences=[],\n",
    "    tools=None,\n",
    "    thinking=False,\n",
    "    thinking_budget=head_cost,\n",
    "):\n",
    "    params = {\n",
    "        \"model\": model,\n",
    "        \"max_tokens\": 4000,\n",
    "        \"messages\": messages,\n",
    "        \"temperature\": temperature,\n",
    "        \"stop_sequences\": stop_sequences,\n",
    "    }\n",
    "\n",
    "    if thinking:\n",
    "        params[\"thinking\"] = {\n",
    "            \"type\": \"enabled\",\n",
    "            \"budget_tokens\": thinking_budget,\n",
    "        }\n",
    "\n",
    "    if tools:\n",
    "        params[\"tools\"] = tools\n",
    "\n",
    "    if system:\n",
    "        params[\"system\"] = system\n",
    "\n",
    "    message = client.messages.create(**params)\n",
    "    return message\n",
    "\n",
    "\n",
    "def text_from_message(message):\n",
    "    return \"\\n\".join(\n",
    "        [block.text for block in message.content if block.type == \"text\"]\n",
    "    )"
   ]
  },
  {
   "cell_type": "code",
   "execution_count": 26,
   "metadata": {},
   "outputs": [],
   "source": [
    "# Fire risk assessment prompt\n",
    "prompt = \"\"\"\n",
    "Analyze the attached satellite image of a property with these specific steps:\n",
    "\n",
    "1. Residence identification: Locate the primary residence on the property by looking for:\n",
    "   - The largest roofed structure \n",
    "   - Typical residential features (driveway connection, regular geometry)\n",
    "   - Distinction from other structures (garages, sheds, pools)\n",
    "   Describe the residence's location relative to property boundaries and other features.\n",
    "\n",
    "2. Tree overhang analysis: Examine all trees near the primary residence:\n",
    "   - Identify any trees whose canopy extends directly over any portion of the roof\n",
    "   - Estimate the percentage of roof covered by overhanging branches (0-25%, 25-50%, 50-75%, 75-100%)\n",
    "   - Note particularly dense areas of overhang\n",
    "\n",
    "3. Fire risk assessment: For any overhanging trees, evaluate:\n",
    "   - Potential wildfire vulnerability (ember catch points, continuous fuel paths to structure)\n",
    "   - Proximity to chimneys, vents, or other roof openings if visible\n",
    "   - Areas where branches create a \"bridge\" between wildland vegetation and the structure\n",
    "   \n",
    "4. Defensible space identification: Assess the property's overall vegetative structure:\n",
    "   - Identify if trees connect to form a continuous canopy over or near the home\n",
    "   - Note any obvious fuel ladders (vegetation that can carry fire from ground to tree to roof)\n",
    "\n",
    "5. Fire risk rating: Based on your analysis, assign a Fire Risk Rating from 1-4:\n",
    "   - Rating 1 (Low Risk): No tree branches overhanging the roof, good defensible space around the structure\n",
    "   - Rating 2 (Moderate Risk): Minimal overhang (<25% of roof), some separation between tree canopies\n",
    "   - Rating 3 (High Risk): Significant overhang (25-50% of roof), connected tree canopies, multiple points of vulnerability\n",
    "   - Rating 4 (Severe Risk): Extensive overhang (>50% of roof), dense vegetation against structure, numerous ember catch points, limited defensible space\n",
    "\n",
    "For each item above (1-5), write one sentence summarizing your findings, with your final response being the numeric Fire Risk Rating (1-4) with a brief justification.\n",
    "\"\"\""
   ]
  },
  {
   "cell_type": "code",
   "execution_count": 27,
   "metadata": {},
   "outputs": [
    {
     "name": "stdout",
     "output_type": "stream",
     "text": [
      "/home/jx-creator/Projects/console/tutorials/claude_features/prop3.png\n",
      "/home/jx-creator/Projects/console/tutorials/claude_features/prop7.png\n",
      "/home/jx-creator/Projects/console/tutorials/claude_features/prop2.png\n",
      "/home/jx-creator/Projects/console/tutorials/claude_features/prop5.png\n",
      "/home/jx-creator/Projects/console/tutorials/claude_features/prop1.png\n",
      "/home/jx-creator/Projects/console/tutorials/claude_features/prop4.png\n",
      "/home/jx-creator/Projects/console/tutorials/claude_features/prop6.png\n"
     ]
    }
   ],
   "source": [
    "# TODO: Read image data, feed into Claude\n",
    "img_dir = Path.cwd()\n",
    "img_list = [i for i in img_dir.iterdir() if i.suffix == \".png\"]\n",
    "#[print(i.suffix) for i in img_dir.iterdir()]\n",
    "[print(i) for i in img_list]\n",
    "img_bytes = []\n",
    "for i in img_list:\n",
    "   with i.open(\"rb\") as f:\n",
    "      img_bytes.append(standard_b64encode(f.read()).decode(\"utf-8\"))"
   ]
  },
  {
   "cell_type": "code",
   "execution_count": 30,
   "metadata": {},
   "outputs": [
    {
     "data": {
      "text/plain": [
       "\"Based on the satellite image:\\n\\n1. The primary residence is clearly identifiable as the two-story structure with a dark roof and light-colored walls, located in the central portion of the property with a driveway connecting to a road on the left side.\\n\\n2. There appears to be no significant tree overhang directly over the residence's roof, with trees being positioned around the property perimeter but maintaining distance from the main structure.\\n\\n3. The fire risk from overhanging trees is minimal as there are no apparent canopies extending over the roof structure, reducing potential ember catch points.\\n\\n4. The property demonstrates good defensible space with trees primarily positioned at the property boundaries and adequate separation between vegetation clusters and the main residence.\\n\\n5. Fire Risk Rating: 1 (Low Risk) - The property features excellent defensible space with no tree branches overhanging the roof, good distance between the residence and surrounding vegetation, and a well-maintained yard area including a pool and patio space that creates natural firebreaks.\""
      ]
     },
     "execution_count": 30,
     "metadata": {},
     "output_type": "execute_result"
    }
   ],
   "source": [
    "add_user_message(messages, [\n",
    "   # Image Code Block Here\n",
    "   {\n",
    "      \"type\": \"image\",\n",
    "      \"source\": {\n",
    "         \"type\": \"base64\",\n",
    "         \"media_type\": \"image/png\",\n",
    "         \"data\": img_bytes[0]\n",
    "      }\n",
    "   },\n",
    "   # Text Code Block Here\n",
    "   {\n",
    "      \"type\": \"text\",\n",
    "      \"text\": \"What do you see in this image?\"\n",
    "   }\n",
    "])\n",
    "\n",
    "response = chat(messages, system=prompt)\n",
    "response.content[0].text"
   ]
  },
  {
   "cell_type": "code",
   "execution_count": null,
   "metadata": {},
   "outputs": [],
   "source": []
  }
 ],
 "metadata": {
  "kernelspec": {
   "display_name": "ctorch",
   "language": "python",
   "name": "python3"
  },
  "language_info": {
   "codemirror_mode": {
    "name": "ipython",
    "version": 3
   },
   "file_extension": ".py",
   "mimetype": "text/x-python",
   "name": "python",
   "nbconvert_exporter": "python",
   "pygments_lexer": "ipython3",
   "version": "3.13.7"
  }
 },
 "nbformat": 4,
 "nbformat_minor": 2
}
